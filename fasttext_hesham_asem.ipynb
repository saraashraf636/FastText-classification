{
  "nbformat": 4,
  "nbformat_minor": 0,
  "metadata": {
    "colab": {
      "provenance": []
    },
    "kernelspec": {
      "name": "python3",
      "display_name": "Python 3"
    },
    "language_info": {
      "name": "python"
    }
  },
  "cells": [
    {
      "cell_type": "code",
      "execution_count": null,
      "metadata": {
        "colab": {
          "base_uri": "https://localhost:8080/"
        },
        "id": "qHpVpNJ_Bri7",
        "outputId": "07a0fdec-f25a-46e1-9fe6-d86126f956cc"
      },
      "outputs": [
        {
          "output_type": "stream",
          "name": "stdout",
          "text": [
            "Looking in indexes: https://pypi.org/simple, https://us-python.pkg.dev/colab-wheels/public/simple/\n",
            "Collecting fasttext\n",
            "  Downloading fasttext-0.9.2.tar.gz (68 kB)\n",
            "\u001b[K     |████████████████████████████████| 68 kB 3.2 MB/s \n",
            "\u001b[?25hCollecting pybind11>=2.2\n",
            "  Using cached pybind11-2.10.1-py3-none-any.whl (216 kB)\n",
            "Requirement already satisfied: setuptools>=0.7.0 in /usr/local/lib/python3.8/dist-packages (from fasttext) (57.4.0)\n",
            "Requirement already satisfied: numpy in /usr/local/lib/python3.8/dist-packages (from fasttext) (1.21.6)\n",
            "Building wheels for collected packages: fasttext\n",
            "  Building wheel for fasttext (setup.py) ... \u001b[?25l\u001b[?25hdone\n",
            "  Created wheel for fasttext: filename=fasttext-0.9.2-cp38-cp38-linux_x86_64.whl size=3132503 sha256=3b90231fbe3fc6cac7ab24f2b8d8c2ce0c85e014abdf908fec92d7b08189cb81\n",
            "  Stored in directory: /root/.cache/pip/wheels/93/61/2a/c54711a91c418ba06ba195b1d78ff24fcaad8592f2a694ac94\n",
            "Successfully built fasttext\n",
            "Installing collected packages: pybind11, fasttext\n",
            "Successfully installed fasttext-0.9.2 pybind11-2.10.1\n"
          ]
        }
      ],
      "source": [
        "pip install fasttext"
      ]
    },
    {
      "cell_type": "code",
      "source": [
        "import fasttext.util\n"
      ],
      "metadata": {
        "id": "Bh9ZWw1pBw44"
      },
      "execution_count": null,
      "outputs": []
    },
    {
      "cell_type": "code",
      "source": [
        "fasttext.util.download_model('en', if_exists='ignore') "
      ],
      "metadata": {
        "colab": {
          "base_uri": "https://localhost:8080/",
          "height": 70
        },
        "id": "L0h-bJLCCIrR",
        "outputId": "da218ab5-3469-4190-93ba-05643a4eeb96"
      },
      "execution_count": null,
      "outputs": [
        {
          "output_type": "stream",
          "name": "stdout",
          "text": [
            "Downloading https://dl.fbaipublicfiles.com/fasttext/vectors-crawl/cc.en.300.bin.gz\n",
            "\n"
          ]
        },
        {
          "output_type": "execute_result",
          "data": {
            "text/plain": [
              "'cc.en.300.bin'"
            ],
            "application/vnd.google.colaboratory.intrinsic+json": {
              "type": "string"
            }
          },
          "metadata": {},
          "execution_count": 3
        }
      ]
    },
    {
      "cell_type": "code",
      "source": [
        "EnglishWE = fasttext.load_model('/content/cc.en.300.bin')"
      ],
      "metadata": {
        "colab": {
          "base_uri": "https://localhost:8080/"
        },
        "id": "6JnFXTznCPjc",
        "outputId": "72af6a50-0cf4-4e1c-def9-38456de9e197"
      },
      "execution_count": null,
      "outputs": [
        {
          "output_type": "stream",
          "name": "stderr",
          "text": [
            "Warning : `load_model` does not return WordVectorModel or SupervisedModel any more, but a `FastText` object which is very similar.\n"
          ]
        }
      ]
    },
    {
      "cell_type": "code",
      "source": [
        "\n",
        "WE = [i for i in EnglishWE['Dog']]\n",
        "len(WE)"
      ],
      "metadata": {
        "colab": {
          "base_uri": "https://localhost:8080/"
        },
        "id": "LF3IvpNXKbVP",
        "outputId": "78fc5393-c091-423d-88bc-95704d5c050e"
      },
      "execution_count": null,
      "outputs": [
        {
          "output_type": "execute_result",
          "data": {
            "text/plain": [
              "300"
            ]
          },
          "metadata": {},
          "execution_count": 5
        }
      ]
    },
    {
      "cell_type": "code",
      "source": [
        "def EnglishWEFunction(Word) : \n",
        "    WE = [i for i in EnglishWE[Word]]\n",
        "    return WE"
      ],
      "metadata": {
        "id": "f1rtE0etKsMP"
      },
      "execution_count": null,
      "outputs": []
    },
    {
      "cell_type": "code",
      "source": [
        "\n",
        "EnglishWEFunction('dog')"
      ],
      "metadata": {
        "colab": {
          "base_uri": "https://localhost:8080/"
        },
        "id": "_ri54J5HK0MO",
        "outputId": "50e50bd9-e7fd-46e3-878d-e4fe1f59a3c4"
      },
      "execution_count": null,
      "outputs": [
        {
          "output_type": "execute_result",
          "data": {
            "text/plain": [
              "[0.16797343,\n",
              " -0.0012915097,\n",
              " 0.01619076,\n",
              " 0.27790722,\n",
              " -0.10621118,\n",
              " 0.036571708,\n",
              " 0.2042775,\n",
              " 0.064157106,\n",
              " -0.011483479,\n",
              " 0.05821145,\n",
              " -0.22524177,\n",
              " -0.21296273,\n",
              " -0.07619001,\n",
              " -0.0495243,\n",
              " 0.044902146,\n",
              " 0.24309441,\n",
              " 0.044567898,\n",
              " -0.028788459,\n",
              " -0.3035171,\n",
              " 0.0158186,\n",
              " -0.20969255,\n",
              " -0.021452324,\n",
              " -0.09633946,\n",
              " -0.045862637,\n",
              " -0.02090367,\n",
              " -0.25138012,\n",
              " 0.10532926,\n",
              " -0.1831662,\n",
              " 0.0060016178,\n",
              " 0.24515434,\n",
              " 0.0032330453,\n",
              " 0.22065218,\n",
              " -0.014099715,\n",
              " 0.0683034,\n",
              " -0.07115323,\n",
              " -0.0064189658,\n",
              " -0.0014906079,\n",
              " 0.069382176,\n",
              " -0.15117021,\n",
              " -0.41590753,\n",
              " 0.08081938,\n",
              " 0.043149598,\n",
              " -0.18901569,\n",
              " 0.02689096,\n",
              " -0.20533894,\n",
              " 0.028296709,\n",
              " 0.014560129,\n",
              " 0.038765326,\n",
              " -0.20197397,\n",
              " 0.27379614,\n",
              " -0.2366355,\n",
              " -0.1277546,\n",
              " -0.066544175,\n",
              " -0.1274356,\n",
              " -0.24377124,\n",
              " 0.18009841,\n",
              " -0.04074678,\n",
              " -0.015528493,\n",
              " -0.14595772,\n",
              " 0.109287806,\n",
              " 0.027287677,\n",
              " 0.016250156,\n",
              " 0.14619264,\n",
              " 0.08557123,\n",
              " -0.1292741,\n",
              " -0.008422561,\n",
              " 0.15677556,\n",
              " 0.23729092,\n",
              " -0.1707532,\n",
              " 0.12808749,\n",
              " -0.009494282,\n",
              " 0.035039544,\n",
              " -0.07176857,\n",
              " -0.1995765,\n",
              " -0.09005836,\n",
              " -0.060077675,\n",
              " 0.15112849,\n",
              " -0.024910847,\n",
              " 0.036721356,\n",
              " 0.076686725,\n",
              " 0.017840654,\n",
              " -0.10687724,\n",
              " -0.01101496,\n",
              " -0.19196266,\n",
              " -0.022426542,\n",
              " -0.04039514,\n",
              " 0.14546907,\n",
              " -0.023605868,\n",
              " 0.11044045,\n",
              " -0.097599834,\n",
              " 0.023792583,\n",
              " -0.20565659,\n",
              " 0.01721616,\n",
              " 0.03199153,\n",
              " 0.008152837,\n",
              " 0.08656359,\n",
              " 0.18502286,\n",
              " 0.18402475,\n",
              " 0.10668078,\n",
              " 0.03738188,\n",
              " -0.4074914,\n",
              " -0.040229708,\n",
              " 0.08458148,\n",
              " -0.11117537,\n",
              " -0.25287393,\n",
              " 0.17724703,\n",
              " -0.18504605,\n",
              " 0.25140703,\n",
              " -0.012714244,\n",
              " -0.14831553,\n",
              " 0.1600358,\n",
              " -0.05883258,\n",
              " -0.061357625,\n",
              " 0.11166456,\n",
              " -0.14569472,\n",
              " 0.14750557,\n",
              " -0.3153151,\n",
              " 0.010786569,\n",
              " -0.15187092,\n",
              " -0.04359063,\n",
              " -0.0634594,\n",
              " -0.088840656,\n",
              " -0.057771217,\n",
              " -0.09834495,\n",
              " -0.025062118,\n",
              " 0.07741003,\n",
              " -0.080654785,\n",
              " 0.12711865,\n",
              " 0.16980766,\n",
              " -0.19458896,\n",
              " -0.12635261,\n",
              " -0.05503424,\n",
              " -0.059657663,\n",
              " -0.15294074,\n",
              " -0.09047022,\n",
              " 0.05964619,\n",
              " 0.18547264,\n",
              " 0.021849299,\n",
              " 0.2296952,\n",
              " -0.13329673,\n",
              " -0.07195106,\n",
              " -0.031211872,\n",
              " -0.0077243745,\n",
              " -0.03858921,\n",
              " -0.06347749,\n",
              " 0.016765416,\n",
              " -0.30626687,\n",
              " 0.39329478,\n",
              " -0.07541074,\n",
              " -0.1283311,\n",
              " 0.009501293,\n",
              " -0.29389495,\n",
              " -0.050465036,\n",
              " -0.12812214,\n",
              " -0.15552156,\n",
              " 0.110129,\n",
              " 0.031947453,\n",
              " 0.02212383,\n",
              " -0.1495015,\n",
              " 0.16552612,\n",
              " -0.17551072,\n",
              " 0.1453113,\n",
              " 0.1827914,\n",
              " -0.14981437,\n",
              " -0.21875371,\n",
              " -0.1254919,\n",
              " 0.18674739,\n",
              " -0.12732399,\n",
              " -0.023174915,\n",
              " 0.03523151,\n",
              " 0.09008883,\n",
              " 0.11684711,\n",
              " -0.21788248,\n",
              " -0.011557106,\n",
              " 0.047200844,\n",
              " -0.117698625,\n",
              " 0.15802756,\n",
              " 0.08140251,\n",
              " -0.19042213,\n",
              " -0.13775437,\n",
              " 0.0856982,\n",
              " -0.096681,\n",
              " -0.07519216,\n",
              " -0.20052913,\n",
              " 0.10061246,\n",
              " 0.07723006,\n",
              " 0.2077197,\n",
              " -0.042454537,\n",
              " -0.00779141,\n",
              " 0.15528412,\n",
              " -0.23522,\n",
              " -0.0190185,\n",
              " 0.01032567,\n",
              " 0.0056195483,\n",
              " 0.103558026,\n",
              " 0.005051328,\n",
              " -0.0062351897,\n",
              " 0.15057383,\n",
              " -0.022162814,\n",
              " 0.114179984,\n",
              " 0.060052067,\n",
              " 0.036393054,\n",
              " 0.05854595,\n",
              " 0.04371137,\n",
              " 0.029149488,\n",
              " 0.16142541,\n",
              " 0.033821225,\n",
              " -0.17429261,\n",
              " 0.08662991,\n",
              " 0.1907782,\n",
              " 0.07996318,\n",
              " -0.15227565,\n",
              " -0.060103737,\n",
              " -0.11483645,\n",
              " -0.104702614,\n",
              " -0.35195923,\n",
              " -0.089052565,\n",
              " -0.06273567,\n",
              " -0.014287148,\n",
              " -0.01347531,\n",
              " 0.1672279,\n",
              " 0.0007054927,\n",
              " 0.07096557,\n",
              " -0.044050395,\n",
              " 0.13617563,\n",
              " 0.037749834,\n",
              " 0.16895525,\n",
              " -0.04593222,\n",
              " -0.10215944,\n",
              " 0.034580186,\n",
              " -0.19589837,\n",
              " 0.045083378,\n",
              " -0.07737713,\n",
              " 0.13069247,\n",
              " -0.014187038,\n",
              " -0.025347799,\n",
              " -0.193466,\n",
              " 0.033326354,\n",
              " -0.044809647,\n",
              " 0.153066,\n",
              " -0.008619595,\n",
              " -0.07667975,\n",
              " -0.20965469,\n",
              " -0.18245429,\n",
              " 0.1157611,\n",
              " -0.17064586,\n",
              " 0.06850301,\n",
              " -0.0045300736,\n",
              " 0.0069396384,\n",
              " 0.038153842,\n",
              " 0.031017354,\n",
              " -0.0461829,\n",
              " 0.0432574,\n",
              " -0.1529224,\n",
              " -0.40706924,\n",
              " 0.101857364,\n",
              " -0.04173297,\n",
              " -0.12702906,\n",
              " 0.034665015,\n",
              " 0.101607725,\n",
              " -0.040658325,\n",
              " -0.11958931,\n",
              " -0.0040996224,\n",
              " -0.0848252,\n",
              " -0.14605616,\n",
              " 0.032799657,\n",
              " -0.1637969,\n",
              " 0.026055489,\n",
              " -0.019874472,\n",
              " -0.10404594,\n",
              " 0.021198114,\n",
              " 0.14655825,\n",
              " -0.17055693,\n",
              " 0.0447331,\n",
              " -0.25232658,\n",
              " 0.04228683,\n",
              " -0.06107245,\n",
              " 0.11194584,\n",
              " -0.078010306,\n",
              " -0.11292272,\n",
              " 0.0557847,\n",
              " 0.045020815,\n",
              " -0.1698344,\n",
              " -0.025950298,\n",
              " -0.06438185,\n",
              " 0.1335313,\n",
              " -0.12403029,\n",
              " -0.08875973,\n",
              " -0.055613212,\n",
              " -0.17166188,\n",
              " -0.092145644,\n",
              " -0.039017946,\n",
              " -0.141013,\n",
              " 0.074793234,\n",
              " 0.22649087,\n",
              " -0.20450641,\n",
              " -0.15849999,\n",
              " 0.30272514,\n",
              " 0.0942003,\n",
              " 0.1539942]"
            ]
          },
          "metadata": {},
          "execution_count": 7
        }
      ]
    },
    {
      "cell_type": "code",
      "source": [
        "len(EnglishWE.get_words())"
      ],
      "metadata": {
        "colab": {
          "base_uri": "https://localhost:8080/"
        },
        "id": "mAqJadN2K-VD",
        "outputId": "f1aa5212-29b1-4f52-b3b9-1e91da02abd9"
      },
      "execution_count": null,
      "outputs": [
        {
          "output_type": "execute_result",
          "data": {
            "text/plain": [
              "2000000"
            ]
          },
          "metadata": {},
          "execution_count": 8
        }
      ]
    },
    {
      "cell_type": "code",
      "source": [
        "def SimilarWords(Word) :\n",
        "    Word = Word.lower()\n",
        "    if Word in EnglishWE.get_words() : \n",
        "        WordsDifference = {}\n",
        "        for EachWord in EnglishWE.get_words()[:10000] : \n",
        "            WordsDifference[EachWord] = sum([abs(float(i)-float(j)) for i,j in zip([i for i in EnglishWE[Word]],[i for i in EnglishWE[EachWord]])])\n",
        "        return list({k: v for k, v in sorted(WordsDifference.items(), key=lambda item: item[1])}.items())[:10]\n",
        "    else : \n",
        "        return 'Word not exists'\n",
        "     "
      ],
      "metadata": {
        "id": "TxHeab4PLHAJ"
      },
      "execution_count": null,
      "outputs": []
    },
    {
      "cell_type": "code",
      "source": [
        "SimilarWords('good')"
      ],
      "metadata": {
        "colab": {
          "base_uri": "https://localhost:8080/"
        },
        "id": "L4qEbOehLSqO",
        "outputId": "3a66f424-25b8-4bd7-f871-2c5a0bf69b88"
      },
      "execution_count": null,
      "outputs": [
        {
          "output_type": "execute_result",
          "data": {
            "text/plain": [
              "[('good', 0.0),\n",
              " ('great', 9.928391179710161),\n",
              " ('decent', 10.087051496874665),\n",
              " ('excellent', 11.231233969156165),\n",
              " ('better', 11.446643645584118),\n",
              " ('pretty', 11.571182941319421),\n",
              " ('terrific', 11.663844823160616),\n",
              " ('really', 11.697962307807757),\n",
              " ('nice', 11.842659651156282),\n",
              " ('terrible', 11.926131740139681)]"
            ]
          },
          "metadata": {},
          "execution_count": 10
        }
      ]
    },
    {
      "cell_type": "code",
      "source": [
        "SimilarWords('Egypt')"
      ],
      "metadata": {
        "colab": {
          "base_uri": "https://localhost:8080/"
        },
        "id": "_gKuwaS3LWeK",
        "outputId": "8f03ed03-1610-47c1-92fe-2a151778a934"
      },
      "execution_count": null,
      "outputs": [
        {
          "output_type": "execute_result",
          "data": {
            "text/plain": [
              "[('Egypt', 14.153405567631125),\n",
              " ('Egyptian', 15.583376786729787),\n",
              " ('ancient', 17.398544892581413),\n",
              " ('Afghanistan', 17.502620629653393),\n",
              " ('Palestine', 17.57370877219364),\n",
              " ('Pakistan', 17.58004485946003),\n",
              " ('university', 17.845438563570497),\n",
              " ('Mediterranean', 17.888189511024393),\n",
              " ('revolution', 17.925125759659295),\n",
              " ('Bangladesh', 17.934947718833826)]"
            ]
          },
          "metadata": {},
          "execution_count": 11
        }
      ]
    },
    {
      "cell_type": "code",
      "source": [],
      "metadata": {
        "id": "z7YdrVbZLdhN"
      },
      "execution_count": null,
      "outputs": []
    }
  ]
}