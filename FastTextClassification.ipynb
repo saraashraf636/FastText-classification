{
  "cells": [
    {
      "cell_type": "markdown",
      "metadata": {
        "id": "urDIffYYrPLw"
      },
      "source": [
        "# FastText embedding\n",
        "\n",
        "## training\n",
        "## use\n",
        "## toy classification\n",
        "\n",
        "### homework apply FastText embedding for classification of Stack Overflow Questions with Quality Rating"
      ]
    },
    {
      "cell_type": "code",
      "execution_count": null,
      "metadata": {
        "id": "NgNH1RrzrPLy"
      },
      "outputs": [],
      "source": [
        "### training the model on custom data"
      ]
    },
    {
      "cell_type": "code",
      "execution_count": null,
      "metadata": {
        "id": "XM5gvjf_rPLz",
        "outputId": "c039c4b0-c4f8-4e0b-8a50-c34a4b0d0b35"
      },
      "outputs": [
        {
          "name": "stdout",
          "output_type": "stream",
          "text": [
            "['human', 'interface', 'computer']\n",
            "9\n"
          ]
        },
        {
          "data": {
            "text/plain": [
              "(36, 290)"
            ]
          },
          "execution_count": 1,
          "metadata": {},
          "output_type": "execute_result"
        }
      ],
      "source": [
        "from gensim.models import FastText\n",
        "from gensim.test.utils import common_texts  # some example sentences\n",
        "print(common_texts[0])\n",
        "print(len(common_texts))\n",
        "model = FastText(vector_size=4, window=3, min_count=1)  # instantiate\n",
        "model.build_vocab(corpus_iterable=common_texts)\n",
        "model.train(corpus_iterable=common_texts, total_examples=len(common_texts), epochs=10)  # train"
      ]
    },
    {
      "cell_type": "code",
      "execution_count": null,
      "metadata": {
        "id": "hPeAxS_-rPLz",
        "outputId": "c7ed4324-6ba6-40a2-c47a-78237f5601e3"
      },
      "outputs": [
        {
          "name": "stdout",
          "output_type": "stream",
          "text": [
            "[ 0.02830743  0.01806018 -0.03648041  0.0230654 ]\n"
          ]
        }
      ],
      "source": [
        "print(model.wv['human'])"
      ]
    },
    {
      "cell_type": "markdown",
      "metadata": {
        "id": "vISYW9mUrPL0"
      },
      "source": [
        "### for larger datasets, we recommend streaming the file, for example from disk or the network. In Gensim, we refer to such datasets as “corpora” (singular “corpus”), and keep them in the format described in LineSentence."
      ]
    },
    {
      "cell_type": "code",
      "execution_count": null,
      "metadata": {
        "id": "I4Xr9bwnrPL0"
      },
      "outputs": [],
      "source": [
        "from gensim.test.utils import datapath"
      ]
    },
    {
      "cell_type": "code",
      "execution_count": null,
      "metadata": {
        "id": "TTmtDr-vrPL0",
        "outputId": "704dc6de-5e4d-409a-cb61-74d9f85fb5ee"
      },
      "outputs": [
        {
          "data": {
            "text/plain": [
              "(240956, 301935)"
            ]
          },
          "execution_count": 4,
          "metadata": {},
          "output_type": "execute_result"
        }
      ],
      "source": [
        "corpus_file = datapath('lee_background.cor')  # absolute path to corpus\n",
        "model3 = FastText(vector_size=4, window=3, min_count=1)\n",
        "model3.build_vocab(corpus_file=corpus_file)  # scan over corpus to build the vocabulary\n",
        "total_words = model3.corpus_total_words  # number of words in the corpus\n",
        "model3.train(corpus_file=corpus_file, total_words=total_words, epochs=5)"
      ]
    },
    {
      "cell_type": "markdown",
      "metadata": {
        "id": "oSCtmIuPrPL1"
      },
      "source": [
        "### creating your own model based on a text file"
      ]
    },
    {
      "cell_type": "code",
      "execution_count": null,
      "metadata": {
        "id": "49tcTc1frPL1",
        "outputId": "1284da78-fc46-4551-b1c1-61f8fb7d940b"
      },
      "outputs": [
        {
          "data": {
            "text/plain": [
              "(1507, 1995)"
            ]
          },
          "execution_count": 5,
          "metadata": {},
          "output_type": "execute_result"
        }
      ],
      "source": [
        "### text from https://www.gutenberg.org/files/2554/2554-0.txt\n",
        "from gensim.utils import tokenize\n",
        "from gensim import utils\n",
        "class MyIter:\n",
        "    def __iter__(self):\n",
        "        path = datapath('crime-and-punishment.txt')\n",
        "        with utils.open(path, 'r', encoding='utf-8') as fin:\n",
        "            for line in fin:\n",
        "                yield list(tokenize(line))\n",
        "model4 = FastText(vector_size=4, window=3, min_count=1)\n",
        "model4.build_vocab(corpus_iterable=MyIter())\n",
        "total_examples = model4.corpus_count\n",
        "model4.train(corpus_iterable=MyIter(), total_examples=total_examples, epochs=5)"
      ]
    },
    {
      "cell_type": "code",
      "execution_count": null,
      "metadata": {
        "id": "m_VdYYPirPL1"
      },
      "outputs": [],
      "source": [
        "from gensim.test.utils import get_tmpfile\n",
        "fname = get_tmpfile(\"fasttext.model\")\n",
        "\n",
        "model.save(fname)\n",
        "model = FastText.load(fname)"
      ]
    },
    {
      "cell_type": "code",
      "execution_count": null,
      "metadata": {
        "id": "WuowwOQNrPL2",
        "outputId": "e8b2c4fb-14d6-4fb7-a24e-f0754a43ae7a"
      },
      "outputs": [
        {
          "name": "stdout",
          "output_type": "stream",
          "text": [
            "False\n",
            "[ 0.01539698 -0.03783063 -0.03136532 -0.01059705]\n"
          ]
        }
      ],
      "source": [
        "# get one out of vocab word\n",
        "import numpy as np\n",
        "print('computation' in model.wv.key_to_index)  # New word, currently out of vocab\n",
        "print(model.wv['computation'])"
      ]
    },
    {
      "cell_type": "code",
      "execution_count": null,
      "metadata": {
        "id": "MvzJcUfVrPL2",
        "outputId": "e7966441-512d-4c50-ed93-ddafa28f35f0"
      },
      "outputs": [
        {
          "name": "stdout",
          "output_type": "stream",
          "text": [
            "[ 0.01539842 -0.03783076 -0.03136622 -0.01059766]\n"
          ]
        }
      ],
      "source": [
        "old_vector = np.copy(model.wv['computation'])  # Grab the existing vector\n",
        "new_sentences = [\n",
        "    ['computer', 'aided', 'design'],\n",
        "    ['computer', 'science'],\n",
        "    ['computational', 'complexity'],\n",
        "    ['military', 'supercomputer'],\n",
        "    ['central', 'processing', 'unit'],\n",
        "    ['onboard', 'car', 'computer'],\n",
        "]\n",
        "\n",
        "model.build_vocab(new_sentences, update=True)  # Update the vocabulary\n",
        "model.train(new_sentences, total_examples=len(new_sentences), epochs=model.epochs)\n",
        "print(model.wv['computation'])"
      ]
    },
    {
      "cell_type": "code",
      "execution_count": null,
      "metadata": {
        "id": "yaBm88qzrPL2"
      },
      "outputs": [],
      "source": [
        "### querying with out of vocab word"
      ]
    },
    {
      "cell_type": "code",
      "execution_count": null,
      "metadata": {
        "id": "iC5rHMUHrPL3",
        "outputId": "0e25dea4-45d1-4f11-9a46-b32a6218ca6d"
      },
      "outputs": [
        {
          "name": "stdout",
          "output_type": "stream",
          "text": [
            "[ 0.01539698 -0.03783063 -0.03136532 -0.01059705]\n"
          ]
        },
        {
          "data": {
            "text/plain": [
              "False"
            ]
          },
          "execution_count": 26,
          "metadata": {},
          "output_type": "execute_result"
        }
      ],
      "source": [
        "new_vector = model.wv['computation']\n",
        "print(new_vector)\n",
        "np.allclose(old_vector, new_vector, atol=1e-4)  # Vector has changed, model has learnt something\n",
        "'computation' in model.wv.key_to_index  # Word is still out of vocab"
      ]
    },
    {
      "cell_type": "code",
      "execution_count": null,
      "metadata": {
        "id": "-hZh8COYrPL3"
      },
      "outputs": [],
      "source": [
        "### working with ready-made vectors"
      ]
    },
    {
      "cell_type": "code",
      "execution_count": null,
      "metadata": {
        "id": "npqt8roBrPL3",
        "outputId": "96583ef7-0924-4a28-d7bf-95883658a591"
      },
      "outputs": [
        {
          "name": "stdout",
          "output_type": "stream",
          "text": [
            "[-0.05853396 -0.00144831  0.00096381  0.09085083  0.08532218]\n",
            "[-0.06020484 -0.00170379  0.00868763  0.13152218  0.05103018]\n"
          ]
        }
      ],
      "source": [
        "from gensim.test.utils import datapath\n",
        "from gensim.models.fasttext import load_facebook_vectors\n",
        "cap_path = datapath(\"crime-and-punishment.bin\")\n",
        "wv = load_facebook_vectors(cap_path)\n",
        "'landlord' in wv.key_to_index  # Word is out of vocabulary\n",
        "oov_vector = wv['landlord']  # Even OOV words have vectors in FastText\n",
        "print(oov_vector)\n",
        "'landlady' in wv.key_to_index  # Word is in the vocabulary\n",
        "iv_vector = wv['landlady']\n",
        "print(iv_vector)"
      ]
    },
    {
      "cell_type": "code",
      "execution_count": null,
      "metadata": {
        "id": "_aNsyeeMrPL3",
        "outputId": "f390751e-53f5-4da3-dcfc-a0c06e0bf5e2"
      },
      "outputs": [
        {
          "name": "stdout",
          "output_type": "stream",
          "text": [
            "('processing', 0.8094061017036438)\n",
            "tree\n",
            "0.058223367\n"
          ]
        }
      ],
      "source": [
        "### perform usual nlp tasks\n",
        "similarities = model.wv.most_similar(positive=['computer', 'human'], negative=['interface'])\n",
        "most_similar = similarities[0]\n",
        "print(most_similar)\n",
        "not_matching = model.wv.doesnt_match(\"human computer interface tree\".split())\n",
        "print(not_matching)\n",
        "sim_score = model.wv.similarity('computer', 'human')\n",
        "print(sim_score)"
      ]
    },
    {
      "cell_type": "markdown",
      "metadata": {
        "id": "WqHv7ILcrPL4"
      },
      "source": [
        "### Toy classification example"
      ]
    },
    {
      "cell_type": "code",
      "execution_count": null,
      "metadata": {
        "id": "8CHguGtyrPL4"
      },
      "outputs": [],
      "source": [
        "import pandas as pd"
      ]
    },
    {
      "cell_type": "code",
      "execution_count": null,
      "metadata": {
        "id": "CMh4wn7urPL4"
      },
      "outputs": [],
      "source": [
        "df = pd.DataFrame({'Rating': [3,5,1,2],\n",
        "                   'Text': [\"I love sunflowers\",\n",
        "                            \"Sunflowers fill my heart with joy\",\n",
        "                            \"I love to look into the garden and see the flowers\",\n",
        "                            \"Flowers especially sunflowers are the most beautiful\"]})"
      ]
    },
    {
      "cell_type": "code",
      "execution_count": null,
      "metadata": {
        "scrolled": true,
        "id": "ROR73c6VrPL4",
        "outputId": "a93c6f9a-8db8-4ca0-bac6-22dca4700f81"
      },
      "outputs": [
        {
          "data": {
            "text/html": [
              "<div>\n",
              "<style scoped>\n",
              "    .dataframe tbody tr th:only-of-type {\n",
              "        vertical-align: middle;\n",
              "    }\n",
              "\n",
              "    .dataframe tbody tr th {\n",
              "        vertical-align: top;\n",
              "    }\n",
              "\n",
              "    .dataframe thead th {\n",
              "        text-align: right;\n",
              "    }\n",
              "</style>\n",
              "<table border=\"1\" class=\"dataframe\">\n",
              "  <thead>\n",
              "    <tr style=\"text-align: right;\">\n",
              "      <th></th>\n",
              "      <th>Rating</th>\n",
              "      <th>Text</th>\n",
              "    </tr>\n",
              "  </thead>\n",
              "  <tbody>\n",
              "    <tr>\n",
              "      <th>0</th>\n",
              "      <td>3</td>\n",
              "      <td>I love sunflowers</td>\n",
              "    </tr>\n",
              "    <tr>\n",
              "      <th>1</th>\n",
              "      <td>5</td>\n",
              "      <td>Sunflowers fill my heart with joy</td>\n",
              "    </tr>\n",
              "    <tr>\n",
              "      <th>2</th>\n",
              "      <td>1</td>\n",
              "      <td>I love to look into the garden and see the flo...</td>\n",
              "    </tr>\n",
              "    <tr>\n",
              "      <th>3</th>\n",
              "      <td>2</td>\n",
              "      <td>Flowers especially sunflowers are the most bea...</td>\n",
              "    </tr>\n",
              "  </tbody>\n",
              "</table>\n",
              "</div>"
            ],
            "text/plain": [
              "   Rating                                               Text\n",
              "0       3                                  I love sunflowers\n",
              "1       5                  Sunflowers fill my heart with joy\n",
              "2       1  I love to look into the garden and see the flo...\n",
              "3       2  Flowers especially sunflowers are the most bea..."
            ]
          },
          "execution_count": 17,
          "metadata": {},
          "output_type": "execute_result"
        }
      ],
      "source": [
        "df"
      ]
    },
    {
      "cell_type": "code",
      "execution_count": null,
      "metadata": {
        "id": "g91GDrWJrPL5"
      },
      "outputs": [],
      "source": [
        "from nltk.tokenize import word_tokenize\n",
        "df['Text_Tokenized'] = df['Text'].str.lower().apply(word_tokenize)"
      ]
    },
    {
      "cell_type": "code",
      "execution_count": null,
      "metadata": {
        "id": "e-tdXP94rPL5",
        "outputId": "c4379ed9-f91f-4785-8e8d-efb75afdff38"
      },
      "outputs": [
        {
          "data": {
            "text/html": [
              "<div>\n",
              "<style scoped>\n",
              "    .dataframe tbody tr th:only-of-type {\n",
              "        vertical-align: middle;\n",
              "    }\n",
              "\n",
              "    .dataframe tbody tr th {\n",
              "        vertical-align: top;\n",
              "    }\n",
              "\n",
              "    .dataframe thead th {\n",
              "        text-align: right;\n",
              "    }\n",
              "</style>\n",
              "<table border=\"1\" class=\"dataframe\">\n",
              "  <thead>\n",
              "    <tr style=\"text-align: right;\">\n",
              "      <th></th>\n",
              "      <th>Rating</th>\n",
              "      <th>Text</th>\n",
              "      <th>Text_Tokenized</th>\n",
              "    </tr>\n",
              "  </thead>\n",
              "  <tbody>\n",
              "    <tr>\n",
              "      <th>0</th>\n",
              "      <td>3</td>\n",
              "      <td>I love sunflowers</td>\n",
              "      <td>[i, love, sunflowers]</td>\n",
              "    </tr>\n",
              "    <tr>\n",
              "      <th>1</th>\n",
              "      <td>5</td>\n",
              "      <td>Sunflowers fill my heart with joy</td>\n",
              "      <td>[sunflowers, fill, my, heart, with, joy]</td>\n",
              "    </tr>\n",
              "    <tr>\n",
              "      <th>2</th>\n",
              "      <td>1</td>\n",
              "      <td>I love to look into the garden and see the flo...</td>\n",
              "      <td>[i, love, to, look, into, the, garden, and, se...</td>\n",
              "    </tr>\n",
              "    <tr>\n",
              "      <th>3</th>\n",
              "      <td>2</td>\n",
              "      <td>Flowers especially sunflowers are the most bea...</td>\n",
              "      <td>[flowers, especially, sunflowers, are, the, mo...</td>\n",
              "    </tr>\n",
              "  </tbody>\n",
              "</table>\n",
              "</div>"
            ],
            "text/plain": [
              "   Rating                                               Text  \\\n",
              "0       3                                  I love sunflowers   \n",
              "1       5                  Sunflowers fill my heart with joy   \n",
              "2       1  I love to look into the garden and see the flo...   \n",
              "3       2  Flowers especially sunflowers are the most bea...   \n",
              "\n",
              "                                      Text_Tokenized  \n",
              "0                              [i, love, sunflowers]  \n",
              "1           [sunflowers, fill, my, heart, with, joy]  \n",
              "2  [i, love, to, look, into, the, garden, and, se...  \n",
              "3  [flowers, especially, sunflowers, are, the, mo...  "
            ]
          },
          "execution_count": 19,
          "metadata": {},
          "output_type": "execute_result"
        }
      ],
      "source": [
        "df"
      ]
    },
    {
      "cell_type": "code",
      "execution_count": null,
      "metadata": {
        "id": "3j8HQeEUrPL5",
        "outputId": "98c8bc2e-6390-4054-e9c1-a3e374389962"
      },
      "outputs": [
        {
          "name": "stdout",
          "output_type": "stream",
          "text": [
            "FastText(vocab=20, vector_size=5, alpha=0.025)\n"
          ]
        }
      ],
      "source": [
        "vector_size_n_w2v = 5\n",
        "\n",
        "w2v_model = FastText(df['Text_Tokenized'],\n",
        "                     vector_size=vector_size_n_w2v,\n",
        "                     window=3,\n",
        "                     min_count=1,\n",
        "                     sg=0, # 0=CBOW, 1=Skip-gram\n",
        "                     epochs=5)\n",
        "\n",
        "print(w2v_model)"
      ]
    },
    {
      "cell_type": "code",
      "execution_count": null,
      "metadata": {
        "id": "QwTtk8-5rPL5"
      },
      "outputs": [],
      "source": [
        "w2v_model.save(\"fasttext_model\")"
      ]
    },
    {
      "cell_type": "code",
      "execution_count": null,
      "metadata": {
        "id": "4WoDZ2FirPL5",
        "outputId": "66d545b8-77ff-4253-97a9-e2c16458acd6"
      },
      "outputs": [
        {
          "data": {
            "text/plain": [
              "['sunflowers',\n",
              " 'the',\n",
              " 'i',\n",
              " 'love',\n",
              " 'flowers',\n",
              " 'to',\n",
              " 'fill',\n",
              " 'my',\n",
              " 'heart',\n",
              " 'with',\n",
              " 'joy',\n",
              " 'beautiful',\n",
              " 'most',\n",
              " 'into',\n",
              " 'garden',\n",
              " 'and',\n",
              " 'see',\n",
              " 'especially',\n",
              " 'are',\n",
              " 'look']"
            ]
          },
          "execution_count": 22,
          "metadata": {},
          "output_type": "execute_result"
        }
      ],
      "source": [
        "w2v_model.wv.index_to_key"
      ]
    },
    {
      "cell_type": "code",
      "execution_count": null,
      "metadata": {
        "id": "oowkLHY1rPL6",
        "outputId": "0796b103-8b34-4994-a3b5-0f535d264eff"
      },
      "outputs": [
        {
          "data": {
            "text/plain": [
              "array([-0.01041438, -0.00093864,  0.01324417, -0.00349267, -0.02209629],\n",
              "      dtype=float32)"
            ]
          },
          "execution_count": 23,
          "metadata": {},
          "output_type": "execute_result"
        }
      ],
      "source": [
        "w2v_model.wv['sunflowers']"
      ]
    },
    {
      "cell_type": "code",
      "execution_count": null,
      "metadata": {
        "id": "8dxn5VFWrPL6",
        "outputId": "9b816f50-b0c1-41e1-aaf1-cbd546dee83d"
      },
      "outputs": [
        {
          "name": "stderr",
          "output_type": "stream",
          "text": [
            "C:\\Users\\Lenovo\\AppData\\Local\\Temp\\ipykernel_10944\\3786601284.py:2: VisibleDeprecationWarning: Creating an ndarray from ragged nested sequences (which is a list-or-tuple of lists-or-tuples-or ndarrays with different lengths or shapes) is deprecated. If you meant to do this, you must specify 'dtype=object' when creating the ndarray.\n",
            "  df['Text_vect'] = np.array([np.array([w2v_model.wv[i] for i in ls if i in words])\n"
          ]
        }
      ],
      "source": [
        "words = set(w2v_model.wv.index_to_key )\n",
        "df['Text_vect'] = np.array([np.array([w2v_model.wv[i] for i in ls if i in words])\n",
        "                         for ls in df['Text_Tokenized']])"
      ]
    },
    {
      "cell_type": "code",
      "execution_count": null,
      "metadata": {
        "id": "31FcnCkDrPL6",
        "outputId": "d78fb387-d858-4aee-f516-3ebcd49cf4d1"
      },
      "outputs": [
        {
          "data": {
            "text/html": [
              "<div>\n",
              "<style scoped>\n",
              "    .dataframe tbody tr th:only-of-type {\n",
              "        vertical-align: middle;\n",
              "    }\n",
              "\n",
              "    .dataframe tbody tr th {\n",
              "        vertical-align: top;\n",
              "    }\n",
              "\n",
              "    .dataframe thead th {\n",
              "        text-align: right;\n",
              "    }\n",
              "</style>\n",
              "<table border=\"1\" class=\"dataframe\">\n",
              "  <thead>\n",
              "    <tr style=\"text-align: right;\">\n",
              "      <th></th>\n",
              "      <th>Rating</th>\n",
              "      <th>Text</th>\n",
              "      <th>Text_Tokenized</th>\n",
              "      <th>Text_vect</th>\n",
              "    </tr>\n",
              "  </thead>\n",
              "  <tbody>\n",
              "    <tr>\n",
              "      <th>0</th>\n",
              "      <td>3</td>\n",
              "      <td>I love sunflowers</td>\n",
              "      <td>[i, love, sunflowers]</td>\n",
              "      <td>[[-0.020006388, -0.04222982, -0.120482996, 0.1...</td>\n",
              "    </tr>\n",
              "    <tr>\n",
              "      <th>1</th>\n",
              "      <td>5</td>\n",
              "      <td>Sunflowers fill my heart with joy</td>\n",
              "      <td>[sunflowers, fill, my, heart, with, joy]</td>\n",
              "      <td>[[-0.010414377, -0.0009386352, 0.013244171, -0...</td>\n",
              "    </tr>\n",
              "    <tr>\n",
              "      <th>2</th>\n",
              "      <td>1</td>\n",
              "      <td>I love to look into the garden and see the flo...</td>\n",
              "      <td>[i, love, to, look, into, the, garden, and, se...</td>\n",
              "      <td>[[-0.020006388, -0.04222982, -0.120482996, 0.1...</td>\n",
              "    </tr>\n",
              "    <tr>\n",
              "      <th>3</th>\n",
              "      <td>2</td>\n",
              "      <td>Flowers especially sunflowers are the most bea...</td>\n",
              "      <td>[flowers, especially, sunflowers, are, the, mo...</td>\n",
              "      <td>[[0.008210084, 0.0027682872, 0.01927444, 0.008...</td>\n",
              "    </tr>\n",
              "  </tbody>\n",
              "</table>\n",
              "</div>"
            ],
            "text/plain": [
              "   Rating                                               Text  \\\n",
              "0       3                                  I love sunflowers   \n",
              "1       5                  Sunflowers fill my heart with joy   \n",
              "2       1  I love to look into the garden and see the flo...   \n",
              "3       2  Flowers especially sunflowers are the most bea...   \n",
              "\n",
              "                                      Text_Tokenized  \\\n",
              "0                              [i, love, sunflowers]   \n",
              "1           [sunflowers, fill, my, heart, with, joy]   \n",
              "2  [i, love, to, look, into, the, garden, and, se...   \n",
              "3  [flowers, especially, sunflowers, are, the, mo...   \n",
              "\n",
              "                                           Text_vect  \n",
              "0  [[-0.020006388, -0.04222982, -0.120482996, 0.1...  \n",
              "1  [[-0.010414377, -0.0009386352, 0.013244171, -0...  \n",
              "2  [[-0.020006388, -0.04222982, -0.120482996, 0.1...  \n",
              "3  [[0.008210084, 0.0027682872, 0.01927444, 0.008...  "
            ]
          },
          "execution_count": 25,
          "metadata": {},
          "output_type": "execute_result"
        }
      ],
      "source": [
        "df"
      ]
    },
    {
      "cell_type": "code",
      "execution_count": null,
      "metadata": {
        "id": "24nxnguFrPL6"
      },
      "outputs": [],
      "source": [
        "content_sentence1_Text_vect = list(df['Text_vect'].loc[0:0])"
      ]
    },
    {
      "cell_type": "code",
      "execution_count": null,
      "metadata": {
        "id": "mKCcAT-NrPL6",
        "outputId": "ec870734-cd8b-4f82-aadb-c3d9a28ae453"
      },
      "outputs": [
        {
          "data": {
            "text/html": [
              "<div>\n",
              "<style scoped>\n",
              "    .dataframe tbody tr th:only-of-type {\n",
              "        vertical-align: middle;\n",
              "    }\n",
              "\n",
              "    .dataframe tbody tr th {\n",
              "        vertical-align: top;\n",
              "    }\n",
              "\n",
              "    .dataframe thead th {\n",
              "        text-align: right;\n",
              "    }\n",
              "</style>\n",
              "<table border=\"1\" class=\"dataframe\">\n",
              "  <thead>\n",
              "    <tr style=\"text-align: right;\">\n",
              "      <th></th>\n",
              "      <th>Rating</th>\n",
              "      <th>Text</th>\n",
              "      <th>Text_Tokenized</th>\n",
              "      <th>Text_vect</th>\n",
              "      <th>Text_vect_avg</th>\n",
              "    </tr>\n",
              "  </thead>\n",
              "  <tbody>\n",
              "    <tr>\n",
              "      <th>0</th>\n",
              "      <td>3</td>\n",
              "      <td>I love sunflowers</td>\n",
              "      <td>[i, love, sunflowers]</td>\n",
              "      <td>[[-0.020006388, -0.04222982, -0.120482996, 0.1...</td>\n",
              "      <td>[0.00031264746, -0.011010818, -0.040938333, 0....</td>\n",
              "    </tr>\n",
              "    <tr>\n",
              "      <th>1</th>\n",
              "      <td>5</td>\n",
              "      <td>Sunflowers fill my heart with joy</td>\n",
              "      <td>[sunflowers, fill, my, heart, with, joy]</td>\n",
              "      <td>[[-0.010414377, -0.0009386352, 0.013244171, -0...</td>\n",
              "      <td>[0.014096205, 0.011501317, 0.023121616, -0.001...</td>\n",
              "    </tr>\n",
              "    <tr>\n",
              "      <th>2</th>\n",
              "      <td>1</td>\n",
              "      <td>I love to look into the garden and see the flo...</td>\n",
              "      <td>[i, love, to, look, into, the, garden, and, se...</td>\n",
              "      <td>[[-0.020006388, -0.04222982, -0.120482996, 0.1...</td>\n",
              "      <td>[-0.012118164, 0.012173792, -0.013780204, -0.0...</td>\n",
              "    </tr>\n",
              "    <tr>\n",
              "      <th>3</th>\n",
              "      <td>2</td>\n",
              "      <td>Flowers especially sunflowers are the most bea...</td>\n",
              "      <td>[flowers, especially, sunflowers, are, the, mo...</td>\n",
              "      <td>[[0.008210084, 0.0027682872, 0.01927444, 0.008...</td>\n",
              "      <td>[-0.015716232, 0.0031787956, -0.010517577, -0....</td>\n",
              "    </tr>\n",
              "  </tbody>\n",
              "</table>\n",
              "</div>"
            ],
            "text/plain": [
              "   Rating                                               Text  \\\n",
              "0       3                                  I love sunflowers   \n",
              "1       5                  Sunflowers fill my heart with joy   \n",
              "2       1  I love to look into the garden and see the flo...   \n",
              "3       2  Flowers especially sunflowers are the most bea...   \n",
              "\n",
              "                                      Text_Tokenized  \\\n",
              "0                              [i, love, sunflowers]   \n",
              "1           [sunflowers, fill, my, heart, with, joy]   \n",
              "2  [i, love, to, look, into, the, garden, and, se...   \n",
              "3  [flowers, especially, sunflowers, are, the, mo...   \n",
              "\n",
              "                                           Text_vect  \\\n",
              "0  [[-0.020006388, -0.04222982, -0.120482996, 0.1...   \n",
              "1  [[-0.010414377, -0.0009386352, 0.013244171, -0...   \n",
              "2  [[-0.020006388, -0.04222982, -0.120482996, 0.1...   \n",
              "3  [[0.008210084, 0.0027682872, 0.01927444, 0.008...   \n",
              "\n",
              "                                       Text_vect_avg  \n",
              "0  [0.00031264746, -0.011010818, -0.040938333, 0....  \n",
              "1  [0.014096205, 0.011501317, 0.023121616, -0.001...  \n",
              "2  [-0.012118164, 0.012173792, -0.013780204, -0.0...  \n",
              "3  [-0.015716232, 0.0031787956, -0.010517577, -0....  "
            ]
          },
          "execution_count": 27,
          "metadata": {},
          "output_type": "execute_result"
        }
      ],
      "source": [
        "text_vect_avg = []\n",
        "for v in df['Text_vect']:\n",
        "    if v.size:\n",
        "        text_vect_avg.append(v.mean(axis=0))\n",
        "    else:\n",
        "        text_vect_avg.append(np.zeros(vector_size_n, dtype=float)) # the same vector size must be used here as for model training\n",
        "        \n",
        "        \n",
        "df['Text_vect_avg'] = text_vect_avg\n",
        "df"
      ]
    },
    {
      "cell_type": "code",
      "execution_count": null,
      "metadata": {
        "id": "_k9W0uQVrPL6",
        "outputId": "65c71432-7e33-4011-a32a-8057b8bcfe87"
      },
      "outputs": [
        {
          "data": {
            "text/html": [
              "<div>\n",
              "<style scoped>\n",
              "    .dataframe tbody tr th:only-of-type {\n",
              "        vertical-align: middle;\n",
              "    }\n",
              "\n",
              "    .dataframe tbody tr th {\n",
              "        vertical-align: top;\n",
              "    }\n",
              "\n",
              "    .dataframe thead th {\n",
              "        text-align: right;\n",
              "    }\n",
              "</style>\n",
              "<table border=\"1\" class=\"dataframe\">\n",
              "  <thead>\n",
              "    <tr style=\"text-align: right;\">\n",
              "      <th></th>\n",
              "      <th>0</th>\n",
              "      <th>1</th>\n",
              "      <th>2</th>\n",
              "      <th>3</th>\n",
              "      <th>4</th>\n",
              "    </tr>\n",
              "  </thead>\n",
              "  <tbody>\n",
              "    <tr>\n",
              "      <th>0</th>\n",
              "      <td>0.000313</td>\n",
              "      <td>-0.011011</td>\n",
              "      <td>-0.040938</td>\n",
              "      <td>0.045829</td>\n",
              "      <td>-0.056768</td>\n",
              "    </tr>\n",
              "    <tr>\n",
              "      <th>1</th>\n",
              "      <td>0.014096</td>\n",
              "      <td>0.011501</td>\n",
              "      <td>0.023122</td>\n",
              "      <td>-0.001331</td>\n",
              "      <td>0.001796</td>\n",
              "    </tr>\n",
              "    <tr>\n",
              "      <th>2</th>\n",
              "      <td>-0.012118</td>\n",
              "      <td>0.012174</td>\n",
              "      <td>-0.013780</td>\n",
              "      <td>-0.011344</td>\n",
              "      <td>-0.001035</td>\n",
              "    </tr>\n",
              "    <tr>\n",
              "      <th>3</th>\n",
              "      <td>-0.015716</td>\n",
              "      <td>0.003179</td>\n",
              "      <td>-0.010518</td>\n",
              "      <td>-0.003246</td>\n",
              "      <td>0.024442</td>\n",
              "    </tr>\n",
              "  </tbody>\n",
              "</table>\n",
              "</div>"
            ],
            "text/plain": [
              "          0         1         2         3         4\n",
              "0  0.000313 -0.011011 -0.040938  0.045829 -0.056768\n",
              "1  0.014096  0.011501  0.023122 -0.001331  0.001796\n",
              "2 -0.012118  0.012174 -0.013780 -0.011344 -0.001035\n",
              "3 -0.015716  0.003179 -0.010518 -0.003246  0.024442"
            ]
          },
          "execution_count": 28,
          "metadata": {},
          "output_type": "execute_result"
        }
      ],
      "source": [
        "df_Machine_Learning = pd.DataFrame(text_vect_avg)\n",
        "df_Machine_Learning"
      ]
    },
    {
      "cell_type": "code",
      "execution_count": null,
      "metadata": {
        "id": "EIJilbXarPL7"
      },
      "outputs": [],
      "source": [
        "final_df = pd.concat([df[['Rating', 'Text']], df_Machine_Learning], axis=1, sort=False)\n"
      ]
    },
    {
      "cell_type": "code",
      "execution_count": null,
      "metadata": {
        "id": "kEYH3hX1rPL7",
        "outputId": "2e231a1f-8e92-4b4e-9122-bf1af81d0ffd"
      },
      "outputs": [
        {
          "data": {
            "text/html": [
              "<div>\n",
              "<style scoped>\n",
              "    .dataframe tbody tr th:only-of-type {\n",
              "        vertical-align: middle;\n",
              "    }\n",
              "\n",
              "    .dataframe tbody tr th {\n",
              "        vertical-align: top;\n",
              "    }\n",
              "\n",
              "    .dataframe thead th {\n",
              "        text-align: right;\n",
              "    }\n",
              "</style>\n",
              "<table border=\"1\" class=\"dataframe\">\n",
              "  <thead>\n",
              "    <tr style=\"text-align: right;\">\n",
              "      <th></th>\n",
              "      <th>Rating</th>\n",
              "      <th>Text</th>\n",
              "      <th>0</th>\n",
              "      <th>1</th>\n",
              "      <th>2</th>\n",
              "      <th>3</th>\n",
              "      <th>4</th>\n",
              "    </tr>\n",
              "  </thead>\n",
              "  <tbody>\n",
              "    <tr>\n",
              "      <th>0</th>\n",
              "      <td>3</td>\n",
              "      <td>I love sunflowers</td>\n",
              "      <td>0.000313</td>\n",
              "      <td>-0.011011</td>\n",
              "      <td>-0.040938</td>\n",
              "      <td>0.045829</td>\n",
              "      <td>-0.056768</td>\n",
              "    </tr>\n",
              "    <tr>\n",
              "      <th>1</th>\n",
              "      <td>5</td>\n",
              "      <td>Sunflowers fill my heart with joy</td>\n",
              "      <td>0.014096</td>\n",
              "      <td>0.011501</td>\n",
              "      <td>0.023122</td>\n",
              "      <td>-0.001331</td>\n",
              "      <td>0.001796</td>\n",
              "    </tr>\n",
              "    <tr>\n",
              "      <th>2</th>\n",
              "      <td>1</td>\n",
              "      <td>I love to look into the garden and see the flo...</td>\n",
              "      <td>-0.012118</td>\n",
              "      <td>0.012174</td>\n",
              "      <td>-0.013780</td>\n",
              "      <td>-0.011344</td>\n",
              "      <td>-0.001035</td>\n",
              "    </tr>\n",
              "    <tr>\n",
              "      <th>3</th>\n",
              "      <td>2</td>\n",
              "      <td>Flowers especially sunflowers are the most bea...</td>\n",
              "      <td>-0.015716</td>\n",
              "      <td>0.003179</td>\n",
              "      <td>-0.010518</td>\n",
              "      <td>-0.003246</td>\n",
              "      <td>0.024442</td>\n",
              "    </tr>\n",
              "  </tbody>\n",
              "</table>\n",
              "</div>"
            ],
            "text/plain": [
              "   Rating                                               Text         0  \\\n",
              "0       3                                  I love sunflowers  0.000313   \n",
              "1       5                  Sunflowers fill my heart with joy  0.014096   \n",
              "2       1  I love to look into the garden and see the flo... -0.012118   \n",
              "3       2  Flowers especially sunflowers are the most bea... -0.015716   \n",
              "\n",
              "          1         2         3         4  \n",
              "0 -0.011011 -0.040938  0.045829 -0.056768  \n",
              "1  0.011501  0.023122 -0.001331  0.001796  \n",
              "2  0.012174 -0.013780 -0.011344 -0.001035  \n",
              "3  0.003179 -0.010518 -0.003246  0.024442  "
            ]
          },
          "execution_count": 30,
          "metadata": {},
          "output_type": "execute_result"
        }
      ],
      "source": [
        "final_df"
      ]
    },
    {
      "cell_type": "code",
      "execution_count": null,
      "metadata": {
        "id": "AwJ2qYl6rPL7",
        "outputId": "6fb20a59-65b2-4fa5-93bf-d9d8f612c06f"
      },
      "outputs": [
        {
          "data": {
            "text/plain": [
              "SVC(kernel='linear')"
            ]
          },
          "execution_count": 31,
          "metadata": {},
          "output_type": "execute_result"
        }
      ],
      "source": [
        "from sklearn.svm import SVC\n",
        "clf = SVC(kernel='linear')\n",
        "clf.fit(df_Machine_Learning, final_df['Rating'])"
      ]
    },
    {
      "cell_type": "code",
      "execution_count": null,
      "metadata": {
        "id": "_nitpMWTrPL7"
      },
      "outputs": [],
      "source": [
        "new_input = [\"Flowers I like to see in the park especially sunflowers\", \n",
        "             \"I like flowers\"]\n",
        "new_input_df = pd.DataFrame(new_input, columns=['New_Input'])"
      ]
    },
    {
      "cell_type": "code",
      "execution_count": null,
      "metadata": {
        "id": "xpJAN7OzrPL7",
        "outputId": "12ffaff4-7e16-4850-c781-3f905c0cbf04"
      },
      "outputs": [
        {
          "data": {
            "text/html": [
              "<div>\n",
              "<style scoped>\n",
              "    .dataframe tbody tr th:only-of-type {\n",
              "        vertical-align: middle;\n",
              "    }\n",
              "\n",
              "    .dataframe tbody tr th {\n",
              "        vertical-align: top;\n",
              "    }\n",
              "\n",
              "    .dataframe thead th {\n",
              "        text-align: right;\n",
              "    }\n",
              "</style>\n",
              "<table border=\"1\" class=\"dataframe\">\n",
              "  <thead>\n",
              "    <tr style=\"text-align: right;\">\n",
              "      <th></th>\n",
              "      <th>New_Input</th>\n",
              "      <th>New_Input_Tokenized</th>\n",
              "    </tr>\n",
              "  </thead>\n",
              "  <tbody>\n",
              "    <tr>\n",
              "      <th>0</th>\n",
              "      <td>Flowers I like to see in the park especially s...</td>\n",
              "      <td>[flowers, i, like, to, see, in, the, park, esp...</td>\n",
              "    </tr>\n",
              "    <tr>\n",
              "      <th>1</th>\n",
              "      <td>I like flowers</td>\n",
              "      <td>[i, like, flowers]</td>\n",
              "    </tr>\n",
              "  </tbody>\n",
              "</table>\n",
              "</div>"
            ],
            "text/plain": [
              "                                           New_Input  \\\n",
              "0  Flowers I like to see in the park especially s...   \n",
              "1                                     I like flowers   \n",
              "\n",
              "                                 New_Input_Tokenized  \n",
              "0  [flowers, i, like, to, see, in, the, park, esp...  \n",
              "1                                 [i, like, flowers]  "
            ]
          },
          "execution_count": 33,
          "metadata": {},
          "output_type": "execute_result"
        }
      ],
      "source": [
        "new_input_df['New_Input_Tokenized'] = new_input_df['New_Input'].str.lower().apply(word_tokenize)\n",
        "new_input_df"
      ]
    },
    {
      "cell_type": "code",
      "execution_count": null,
      "metadata": {
        "id": "5Tc9OwE_rPL7",
        "outputId": "ea9a1751-a8bd-4e16-d995-016986cf819d"
      },
      "outputs": [
        {
          "name": "stderr",
          "output_type": "stream",
          "text": [
            "C:\\Users\\Lenovo\\AppData\\Local\\Temp\\ipykernel_10944\\412091932.py:2: VisibleDeprecationWarning: Creating an ndarray from ragged nested sequences (which is a list-or-tuple of lists-or-tuples-or ndarrays with different lengths or shapes) is deprecated. If you meant to do this, you must specify 'dtype=object' when creating the ndarray.\n",
            "  new_input_df['New_Text_vect'] = np.array([np.array([w2v_model.wv[i] for i in ls if i in words])\n"
          ]
        },
        {
          "data": {
            "text/html": [
              "<div>\n",
              "<style scoped>\n",
              "    .dataframe tbody tr th:only-of-type {\n",
              "        vertical-align: middle;\n",
              "    }\n",
              "\n",
              "    .dataframe tbody tr th {\n",
              "        vertical-align: top;\n",
              "    }\n",
              "\n",
              "    .dataframe thead th {\n",
              "        text-align: right;\n",
              "    }\n",
              "</style>\n",
              "<table border=\"1\" class=\"dataframe\">\n",
              "  <thead>\n",
              "    <tr style=\"text-align: right;\">\n",
              "      <th></th>\n",
              "      <th>New_Input</th>\n",
              "      <th>New_Input_Tokenized</th>\n",
              "      <th>New_Text_vect</th>\n",
              "    </tr>\n",
              "  </thead>\n",
              "  <tbody>\n",
              "    <tr>\n",
              "      <th>0</th>\n",
              "      <td>Flowers I like to see in the park especially s...</td>\n",
              "      <td>[flowers, i, like, to, see, in, the, park, esp...</td>\n",
              "      <td>[[0.008210084, 0.0027682872, 0.01927444, 0.008...</td>\n",
              "    </tr>\n",
              "    <tr>\n",
              "      <th>1</th>\n",
              "      <td>I like flowers</td>\n",
              "      <td>[i, like, flowers]</td>\n",
              "      <td>[[-0.020006388, -0.04222982, -0.120482996, 0.1...</td>\n",
              "    </tr>\n",
              "  </tbody>\n",
              "</table>\n",
              "</div>"
            ],
            "text/plain": [
              "                                           New_Input  \\\n",
              "0  Flowers I like to see in the park especially s...   \n",
              "1                                     I like flowers   \n",
              "\n",
              "                                 New_Input_Tokenized  \\\n",
              "0  [flowers, i, like, to, see, in, the, park, esp...   \n",
              "1                                 [i, like, flowers]   \n",
              "\n",
              "                                       New_Text_vect  \n",
              "0  [[0.008210084, 0.0027682872, 0.01927444, 0.008...  \n",
              "1  [[-0.020006388, -0.04222982, -0.120482996, 0.1...  "
            ]
          },
          "execution_count": 46,
          "metadata": {},
          "output_type": "execute_result"
        }
      ],
      "source": [
        "words = set(w2v_model.wv.index_to_key )\n",
        "new_input_df['New_Text_vect'] = np.array([np.array([w2v_model.wv[i] for i in ls if i in words])\n",
        "                         for ls in new_input_df['New_Input_Tokenized']])\n",
        "new_input_df"
      ]
    },
    {
      "cell_type": "code",
      "execution_count": null,
      "metadata": {
        "id": "A1FFhIdzrPL8",
        "outputId": "48719f7e-04bc-4b86-ec9b-bc1f881327d1"
      },
      "outputs": [
        {
          "data": {
            "text/html": [
              "<div>\n",
              "<style scoped>\n",
              "    .dataframe tbody tr th:only-of-type {\n",
              "        vertical-align: middle;\n",
              "    }\n",
              "\n",
              "    .dataframe tbody tr th {\n",
              "        vertical-align: top;\n",
              "    }\n",
              "\n",
              "    .dataframe thead th {\n",
              "        text-align: right;\n",
              "    }\n",
              "</style>\n",
              "<table border=\"1\" class=\"dataframe\">\n",
              "  <thead>\n",
              "    <tr style=\"text-align: right;\">\n",
              "      <th></th>\n",
              "      <th>New_Input</th>\n",
              "      <th>New_Input_Tokenized</th>\n",
              "      <th>New_Text_vect</th>\n",
              "      <th>Text_vect_avg</th>\n",
              "    </tr>\n",
              "  </thead>\n",
              "  <tbody>\n",
              "    <tr>\n",
              "      <th>0</th>\n",
              "      <td>Flowers I like to see in the park especially s...</td>\n",
              "      <td>[flowers, i, like, to, see, in, the, park, esp...</td>\n",
              "      <td>[[0.008210084, 0.0027682872, 0.01927444, 0.008...</td>\n",
              "      <td>[-0.020084772, 0.004546546, -0.0138535565, -0....</td>\n",
              "    </tr>\n",
              "    <tr>\n",
              "      <th>1</th>\n",
              "      <td>I like flowers</td>\n",
              "      <td>[i, like, flowers]</td>\n",
              "      <td>[[-0.020006388, -0.04222982, -0.120482996, 0.1...</td>\n",
              "      <td>[-0.005898152, -0.019730767, -0.050604276, 0.0...</td>\n",
              "    </tr>\n",
              "  </tbody>\n",
              "</table>\n",
              "</div>"
            ],
            "text/plain": [
              "                                           New_Input  \\\n",
              "0  Flowers I like to see in the park especially s...   \n",
              "1                                     I like flowers   \n",
              "\n",
              "                                 New_Input_Tokenized  \\\n",
              "0  [flowers, i, like, to, see, in, the, park, esp...   \n",
              "1                                 [i, like, flowers]   \n",
              "\n",
              "                                       New_Text_vect  \\\n",
              "0  [[0.008210084, 0.0027682872, 0.01927444, 0.008...   \n",
              "1  [[-0.020006388, -0.04222982, -0.120482996, 0.1...   \n",
              "\n",
              "                                       Text_vect_avg  \n",
              "0  [-0.020084772, 0.004546546, -0.0138535565, -0....  \n",
              "1  [-0.005898152, -0.019730767, -0.050604276, 0.0...  "
            ]
          },
          "execution_count": 48,
          "metadata": {},
          "output_type": "execute_result"
        }
      ],
      "source": [
        "text_vect_avg = []\n",
        "for v in new_input_df['New_Text_vect']:\n",
        "    if v.size:\n",
        "        text_vect_avg.append(v.mean(axis=0))\n",
        "    else:\n",
        "        text_vect_avg.append(np.zeros(vector_size_n, dtype=float)) # the same vector size must be used here as for model training\n",
        "        \n",
        "        \n",
        "new_input_df['Text_vect_avg'] = text_vect_avg\n",
        "new_input_df"
      ]
    },
    {
      "cell_type": "code",
      "execution_count": null,
      "metadata": {
        "id": "QmSxJ8esrPL8"
      },
      "outputs": [],
      "source": []
    },
    {
      "cell_type": "code",
      "execution_count": null,
      "metadata": {
        "id": "jboSBWGdrPL8",
        "outputId": "01b33c83-c530-4b37-d415-58a07ac9a615"
      },
      "outputs": [
        {
          "data": {
            "text/html": [
              "<div>\n",
              "<style scoped>\n",
              "    .dataframe tbody tr th:only-of-type {\n",
              "        vertical-align: middle;\n",
              "    }\n",
              "\n",
              "    .dataframe tbody tr th {\n",
              "        vertical-align: top;\n",
              "    }\n",
              "\n",
              "    .dataframe thead th {\n",
              "        text-align: right;\n",
              "    }\n",
              "</style>\n",
              "<table border=\"1\" class=\"dataframe\">\n",
              "  <thead>\n",
              "    <tr style=\"text-align: right;\">\n",
              "      <th></th>\n",
              "      <th>New_Input</th>\n",
              "      <th>Element_1</th>\n",
              "      <th>Element_2</th>\n",
              "      <th>Element_3</th>\n",
              "      <th>Element_4</th>\n",
              "      <th>Element_5</th>\n",
              "    </tr>\n",
              "  </thead>\n",
              "  <tbody>\n",
              "    <tr>\n",
              "      <th>0</th>\n",
              "      <td>Flowers I like to see in the park especially s...</td>\n",
              "      <td>-0.020085</td>\n",
              "      <td>0.004547</td>\n",
              "      <td>-0.013854</td>\n",
              "      <td>-0.006871</td>\n",
              "      <td>0.001681</td>\n",
              "    </tr>\n",
              "    <tr>\n",
              "      <th>1</th>\n",
              "      <td>I like flowers</td>\n",
              "      <td>-0.005898</td>\n",
              "      <td>-0.019731</td>\n",
              "      <td>-0.050604</td>\n",
              "      <td>0.085693</td>\n",
              "      <td>-0.052390</td>\n",
              "    </tr>\n",
              "  </tbody>\n",
              "</table>\n",
              "</div>"
            ],
            "text/plain": [
              "                                           New_Input  Element_1  Element_2  \\\n",
              "0  Flowers I like to see in the park especially s...  -0.020085   0.004547   \n",
              "1                                     I like flowers  -0.005898  -0.019731   \n",
              "\n",
              "   Element_3  Element_4  Element_5  \n",
              "0  -0.013854  -0.006871   0.001681  \n",
              "1  -0.050604   0.085693  -0.052390  "
            ]
          },
          "execution_count": 49,
          "metadata": {},
          "output_type": "execute_result"
        }
      ],
      "source": [
        "new_input_Machine_Learning_df = pd.DataFrame(text_vect_avg)\n",
        "new_input_Machine_Learning_df.columns = ['Element_' + str(i+1) for i in range(0, new_input_Machine_Learning_df.shape[1])]\n",
        "new_input_Machine_Learning_df\n",
        "\n",
        "final_new_input_df = pd.concat([new_input_df[['New_Input']], new_input_Machine_Learning_df], axis=1, sort=False)\n",
        "final_new_input_df\n",
        "# w2v_model_reloaded = FastText.load(\"fasttext_model\")\n",
        "# words = set(w2v_model_reloaded.wv.index_to_key )\n",
        "# new_input_df['New_Input_vect'] = np.array([np.array([w2v_model_reloaded.wv[i] for i in lsif i in words])\n",
        "#                                            for ls in new_input_df['New_Input_Tokenized']])\n",
        "\n",
        "# text_vect_avg = []\n",
        "# for v in new_input_df['New_Input_vect']:\n",
        "#     if v.size:\n",
        "#         text_vect_avg.append(v.mean(axis=0))\n",
        "#     else:\n",
        "#         text_vect_avg.append(np.zeros(vector_size_n_reloaded, dtype=float)) # the same vector size must be used here as for model training\n",
        "        \n",
        "# final_new_input_df = pd.concat([new_input_df[['New_Input']], new_input_Machine_Learning_df], axis=1, sort=False)\n"
      ]
    },
    {
      "cell_type": "code",
      "execution_count": null,
      "metadata": {
        "id": "FQwjyEDnrPL8",
        "outputId": "93f0fc2d-b490-455e-cbd0-17b4dd7bcf24"
      },
      "outputs": [
        {
          "name": "stderr",
          "output_type": "stream",
          "text": [
            "C:\\Users\\Lenovo\\anaconda3\\lib\\site-packages\\sklearn\\base.py:443: UserWarning: X has feature names, but SVC was fitted without feature names\n",
            "  warnings.warn(\n"
          ]
        }
      ],
      "source": [
        "y_pred = clf.predict(new_input_Machine_Learning_df)"
      ]
    },
    {
      "cell_type": "code",
      "execution_count": null,
      "metadata": {
        "id": "0JM3fegUrPL8",
        "outputId": "e757c235-192c-4cb1-8ce5-fe1723893d52"
      },
      "outputs": [
        {
          "data": {
            "text/plain": [
              "array([1, 3], dtype=int64)"
            ]
          },
          "execution_count": 54,
          "metadata": {},
          "output_type": "execute_result"
        }
      ],
      "source": [
        "y_pred"
      ]
    },
    {
      "cell_type": "markdown",
      "metadata": {
        "id": "mBk0W0ZTrPL9"
      },
      "source": [
        "### Classification based on Stack Overflow Questions with Quality Rating"
      ]
    },
    {
      "cell_type": "code",
      "execution_count": null,
      "metadata": {
        "id": "_OfswLLDrPL9"
      },
      "outputs": [],
      "source": [
        "### 60k Stack Overflow Questions with Quality Rating\n",
        "### https://www.kaggle.com/datasets/imoore/60k-stack-overflow-questions-with-quality-rate"
      ]
    },
    {
      "cell_type": "code",
      "execution_count": null,
      "metadata": {
        "id": "3wEXFyUDrPL9"
      },
      "outputs": [],
      "source": [
        "# Text Classification with fastText\n",
        "# Importing libraries\n",
        "import numpy as np, pandas as pd\n",
        "\n",
        "# NLP Preprocessing\n",
        "from gensim.utils import simple_preprocess #lowercases, tokenizes\n",
        "\n",
        "# Importing the dataset\n",
        "dataset = pd.read_csv('stackoverflow/train.csv')[['Body', 'Y']].rename(columns = {'Body': 'questions', 'Y': 'category'})\n",
        "ds = pd.read_csv('stackoverflow/valid.csv')[['Body', 'Y']].rename(columns = {'Body': 'questions', 'Y': 'category'})"
      ]
    },
    {
      "cell_type": "code",
      "execution_count": null,
      "metadata": {
        "id": "sYwrhhi7rPL9",
        "outputId": "a4c7f6a4-e117-4c78-88dc-c0095d0c129e"
      },
      "outputs": [
        {
          "data": {
            "text/plain": [
              "<bound method NDFrame.tail of                                                questions  category\n",
              "0      I am having 4 different tables like \\r\\nselect...   LQ_EDIT\n",
              "1      I have two table m_master and tbl_appointment\\...   LQ_EDIT\n",
              "2      <p>I'm trying to extract US states from wiki U...        HQ\n",
              "3      I'm so new to C#, I wanna make an application ...   LQ_EDIT\n",
              "4      basically i have this array:\\r\\n\\r\\n    array(...   LQ_EDIT\n",
              "...                                                  ...       ...\n",
              "14995  <p>I have a menu, and I'd like the div.right-c...  LQ_CLOSE\n",
              "14996  <p>I try to multiply an integer by a double bu...  LQ_CLOSE\n",
              "14997      *URLS.PY*\\r\\n    //URLS.PY FILE\\r\\n    fro...   LQ_EDIT\n",
              "14998  <p>I have a controller inside which a server i...  LQ_CLOSE\n",
              "14999  <p>So i was recently helping someone out with ...  LQ_CLOSE\n",
              "\n",
              "[15000 rows x 2 columns]>"
            ]
          },
          "execution_count": 62,
          "metadata": {},
          "output_type": "execute_result"
        }
      ],
      "source": []
    },
    {
      "cell_type": "markdown",
      "metadata": {
        "id": "DmZ_bGgcrPL9"
      },
      "source": [
        "### simple preprocessing"
      ]
    },
    {
      "cell_type": "code",
      "execution_count": null,
      "metadata": {
        "id": "Dz_7mCK4rPL-"
      },
      "outputs": [],
      "source": [
        "# NLP Preprocess\n",
        "dataset.iloc[:, 0] = dataset.iloc[:, 0].apply(lambda x: ' '.join(simple_preprocess(x)))\n",
        "ds.iloc[:, 0] = ds.iloc[:, 0].apply(lambda x: ' '.join(simple_preprocess(x)))\n",
        "\n",
        "# Prefixing each row of the category column with '__label__'\n",
        "dataset.iloc[:, 1] = dataset.iloc[:, 1].apply(lambda x: '__label__' + x)\n",
        "ds.iloc[:, 1] = ds.iloc[:, 1].apply(lambda x: '__label__' + x)"
      ]
    },
    {
      "cell_type": "code",
      "execution_count": null,
      "metadata": {
        "id": "wktOCB21rPL-",
        "outputId": "4ae5d5c5-bd9e-44af-b708-a82655e278c4"
      },
      "outputs": [
        {
          "data": {
            "text/plain": [
              "<bound method NDFrame.tail of                                                questions           category\n",
              "0      am having different tables like select from sy...   __label__LQ_EDIT\n",
              "1      have two table m_master and tbl_appointment th...   __label__LQ_EDIT\n",
              "2      trying to extract us states from wiki url and ...        __label__HQ\n",
              "3      so new to wanna make an application that can e...   __label__LQ_EDIT\n",
              "4      basically have this array array array sub comp...   __label__LQ_EDIT\n",
              "...                                                  ...                ...\n",
              "14995  have menu and like the div right controls and ...  __label__LQ_CLOSE\n",
              "14996  try to multiply an integer by double but obtai...  __label__LQ_CLOSE\n",
              "14997  urls py urls py file from django contrib impor...   __label__LQ_EDIT\n",
              "14998  have controller inside which server is connect...  __label__LQ_CLOSE\n",
              "14999  so was recently helping someone out with some ...  __label__LQ_CLOSE\n",
              "\n",
              "[15000 rows x 2 columns]>"
            ]
          },
          "execution_count": 64,
          "metadata": {},
          "output_type": "execute_result"
        }
      ],
      "source": [
        "ds.tail"
      ]
    },
    {
      "cell_type": "code",
      "execution_count": null,
      "metadata": {
        "id": "pMx9s72vrPL-"
      },
      "outputs": [],
      "source": [
        "import csv\n",
        "from gensim.models import FastText\n",
        "\n",
        "# Saving the CSV file as a text file to train/test the classifier\n",
        "dataset[['category', 'questions']].to_csv('train.txt', \n",
        "                                          index = False, \n",
        "                                          sep = ' ',\n",
        "                                          header = None, \n",
        "                                          quoting = csv.QUOTE_NONE, \n",
        "                                          quotechar = \"\", \n",
        "                                          escapechar = \" \")\n",
        "\n",
        "ds[['category', 'questions']].to_csv('test.txt', \n",
        "                                     index = False, \n",
        "                                     sep = ' ',\n",
        "                                     header = None, \n",
        "                                     quoting = csv.QUOTE_NONE, \n",
        "                                     quotechar = \"\", \n",
        "                                     escapechar = \" \")"
      ]
    },
    {
      "cell_type": "code",
      "execution_count": null,
      "metadata": {
        "id": "C-a6kNbVrPL-"
      },
      "outputs": [],
      "source": []
    },
    {
      "cell_type": "code",
      "execution_count": null,
      "metadata": {
        "id": "bw2CFW92rPL-"
      },
      "outputs": [],
      "source": []
    },
    {
      "cell_type": "code",
      "execution_count": null,
      "metadata": {
        "id": "MMzYt8DhrPL_"
      },
      "outputs": [],
      "source": []
    },
    {
      "cell_type": "code",
      "execution_count": null,
      "metadata": {
        "id": "1JY46AZnrPL_"
      },
      "outputs": [],
      "source": []
    }
  ],
  "metadata": {
    "kernelspec": {
      "display_name": "Python 3 (ipykernel)",
      "language": "python",
      "name": "python3"
    },
    "language_info": {
      "codemirror_mode": {
        "name": "ipython",
        "version": 3
      },
      "file_extension": ".py",
      "mimetype": "text/x-python",
      "name": "python",
      "nbconvert_exporter": "python",
      "pygments_lexer": "ipython3",
      "version": "3.9.13"
    },
    "colab": {
      "provenance": []
    }
  },
  "nbformat": 4,
  "nbformat_minor": 0
}